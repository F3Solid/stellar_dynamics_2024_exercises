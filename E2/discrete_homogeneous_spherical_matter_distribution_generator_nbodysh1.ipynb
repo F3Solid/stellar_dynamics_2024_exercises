{
 "cells": [
  {
   "cell_type": "code",
   "execution_count": 85,
   "metadata": {},
   "outputs": [],
   "source": [
    "# IMPORTS\n",
    "\n",
    "#---------------------------------------\n",
    "import numpy as np"
   ]
  },
  {
   "cell_type": "code",
   "execution_count": 86,
   "metadata": {},
   "outputs": [],
   "source": [
    "# COORDINATES FUNCTIONS\n",
    "\n",
    "#----------------------------------------------------------------\n",
    "# Returns the 3D vector (x, y, z) correspoding to the spherical_coordinates (r, theta, phi)\n",
    "# Imput parameter is strictly a numpy array of 3 numbers: (r, theta, phi)\n",
    "def spherical_to_cartesian(spherical_coordinates):\n",
    "    r = spherical_coordinates[0]\n",
    "    theta = spherical_coordinates[1]\n",
    "    phi = spherical_coordinates[2]\n",
    "\n",
    "    x = r * np.sin(theta) * np.cos(phi)\n",
    "    y = r * np.sin(theta) * np.sin(phi)\n",
    "    z = r * np.cos(theta)\n",
    "\n",
    "    # Floating point precision would not give exact results around zeros of goniometric functions\n",
    "    return np.array([x, y, z])"
   ]
  },
  {
   "cell_type": "code",
   "execution_count": 87,
   "metadata": {},
   "outputs": [],
   "source": [
    "# DISTRIBUTION GENERATION FUNCTIONS - (HOMOGENEOUS SPHERE)\n",
    "\n",
    "#---------------------------------------------------------------\n",
    "# Generate a random radius within \"sphere_radius\" by sampling from its PDF\n",
    "# This is achieved by using its inverse CDF\n",
    "def generate_radius(sphere_radius, size=1):\n",
    "    P = np.random.uniform(0, 1, size)\n",
    "\n",
    "    return sphere_radius * (P ** (1 / 3))\n",
    "\n",
    "# Generate a random inclination theta by sampling from its PDF\n",
    "# This is achieved by using its inverse CDF\n",
    "def generate_theta(size=1):\n",
    "    P = np.random.uniform(0, 1, size)\n",
    "\n",
    "    return np.arccos(1 - 2 * P)\n",
    "\n",
    "# Generate a random azimuth phi; phi is uniformly distributed\n",
    "def generate_phi(size=1):\n",
    "    return np.random.uniform(0, 2 * np.pi, size)\n",
    "\n",
    "# Generate a random set of coordinates of a point within \"sphere_radius\"\n",
    "# The returned value is shaped like this: [[r_0, theta_0, phi_0],\n",
    "#                                         [r_1, theta_1, phi_1],\n",
    "#                                         ...\n",
    "#                                         [r_(size-1), theta_(size-1), phi_(size-1)]]\n",
    "def generate_sphere_point(sphere_radius, size=1):\n",
    "    r = generate_radius(sphere_radius, size)\n",
    "    theta = generate_theta(size)\n",
    "    phi = generate_phi(size)\n",
    "\n",
    "    # np.stack() merges the coordinates into the desired shape\n",
    "    return np.stack((r, theta, phi), axis=1)"
   ]
  },
  {
   "cell_type": "code",
   "execution_count": 88,
   "metadata": {},
   "outputs": [],
   "source": [
    "# PHYSICS FUNCTIONS\n",
    "\n",
    "#-------------------------------------------------\n",
    "def get_sphere_volume(radius):\n",
    "    return (4 * np.pi / 3) * radius ** 3\n",
    "\n",
    "def get_total_mass(part_mass, part_N):\n",
    "    return part_mass * part_N\n",
    "\n",
    "def get_average_density(mass, volume):\n",
    "    return mass / volume\n",
    "\n",
    "def get_collapse_time(density): # G = 1\n",
    "    T_w = (3 * np.pi / density) ** (1 / 2)\n",
    "    return T_w / (4 * 2 ** (1 / 2))"
   ]
  },
  {
   "cell_type": "code",
   "execution_count": 89,
   "metadata": {},
   "outputs": [],
   "source": [
    "# PARAMETERS OF THE DISTRIBUTION\n",
    "\n",
    "N = 1000 # Number of points\n",
    "R = 1 # Radius of the sphere\n",
    "t0 = 0 # Initial time. To be writed in the input_file\n",
    "m = 1 # Mass of every any particle\n",
    "\n",
    "# Generate the distribution\n",
    "points_spherical = generate_sphere_point(R, N)\n",
    "\n",
    "# Compute the cartesian coordinates of every particle and store it into an array\n",
    "points_cartesian = np.array([spherical_to_cartesian(points_spherical[i]) for i in range(N)])"
   ]
  },
  {
   "cell_type": "code",
   "execution_count": 90,
   "metadata": {},
   "outputs": [
    {
     "name": "stdout",
     "output_type": "stream",
     "text": [
      "Collapse time = 0.035124073655203626\n"
     ]
    }
   ],
   "source": [
    "collapse_time = get_collapse_time(get_average_density(get_total_mass(m, N),\n",
    "                                                      get_sphere_volume(R)))\n",
    "\n",
    "print(\"Collapse time = \" + str(collapse_time))"
   ]
  },
  {
   "cell_type": "code",
   "execution_count": 91,
   "metadata": {},
   "outputs": [],
   "source": [
    "# Every particle is generated at rest\n",
    "velocity_coord_str = \"0 0 0\"\n",
    "\n",
    "# Converts the list of cartesian coordinates into a list of strings\n",
    "# and append the mass of the particle ad the beginning\n",
    "# and the initial velocity at the end\n",
    "points_coord_str = ['\\n' + str(m) + ' ' +\n",
    "                    ' '.join(str(coord) for coord in points_cartesian[i]) + ' ' +\n",
    "                    velocity_coord_str\n",
    "                    for i in range(N)]"
   ]
  },
  {
   "cell_type": "code",
   "execution_count": 92,
   "metadata": {},
   "outputs": [],
   "source": [
    "# Create or overwrite the input file\n",
    "file_name = \"input.txt\"\n",
    "\n",
    "input_file = open(file_name, 'w')\n",
    "\n",
    "# Write a file in the proper format for the nbody_sh1 program:\n",
    "#\n",
    "# N\n",
    "# t_0\n",
    "# m_1 x_1, y_1, z_1, vx_1, vy_1, vz_1\n",
    "# m_2 x_2, y_2, z_2, vx_2, vy_2, vz_2\n",
    "# ...\n",
    "# m_N x_N, y_N, z_N, vx_N, vy_N, vz_N\n",
    "input_file.write(str(N))\n",
    "input_file.write('\\n' + str(t0))\n",
    "input_file.writelines(points_coord_str)\n",
    "\n",
    "input_file.close()"
   ]
  }
 ],
 "metadata": {
  "kernelspec": {
   "display_name": "Python 3",
   "language": "python",
   "name": "python3"
  },
  "language_info": {
   "codemirror_mode": {
    "name": "ipython",
    "version": 3
   },
   "file_extension": ".py",
   "mimetype": "text/x-python",
   "name": "python",
   "nbconvert_exporter": "python",
   "pygments_lexer": "ipython3",
   "version": "3.11.8"
  }
 },
 "nbformat": 4,
 "nbformat_minor": 2
}
